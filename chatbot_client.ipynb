{
 "cells": [
  {
   "attachments": {},
   "cell_type": "markdown",
   "metadata": {},
   "source": [
    "## An Object-Oriented Chatbot using GPT and a Database\n",
    "This allows multiple chatbot types (e.g. a health coach and a learning assistant) to be created. Multiple chatbot instances can be created per chatbot type (e.g. for User X and User Y). Both, type and instance are stored and referenced with an ID (e.g. with a UUID) in the database.\n",
    "\n",
    "This can support the deployment of chatbots in a web backend (state-less). For example, the UUIDs of the type and instance can be read as URL parameters from a URL that users have received from you.\n",
    "\n",
    "A chatbot is created with the following arguments.\n",
    "- database_file: File of SQLite (in Folder data/)\n",
    "- type_id: Reference to chatbot type\n",
    "- instance_id: Reference to chatbot instance (typically one per user - however, may also be shared by multiple users)\n",
    "- type_role: Role of chatbot type (will be turned into a first prompt with role:system)\n",
    "- instance_context: Context of chatbot instance (will be turned into a second prompt with role:system)\n",
    "- instance_starter: Will be used to generate an initial message to the user (will be turned into a final prompt with role:system)\n",
    "\n",
    "The following functions are meant to be used from an application (e.g. from controllers of a REST API).\n",
    "- conversation_retrieve(with_system=False): Retrieve the previous conversation history (default: without prompts with role:system)\n",
    "- starter(): Returns an initial message to the user (Resulting from instance_starter prompt)\n",
    "- response_for(user_says): Returns an assistance response to user_says"
   ]
  },
  {
   "cell_type": "code",
   "execution_count": 2,
   "metadata": {},
   "outputs": [],
   "source": [
    "from chatbot_db import Chatbot\n"
   ]
  },
  {
   "attachments": {},
   "cell_type": "markdown",
   "metadata": {},
   "source": [
    "#### Create a chatbot \"Coach\" for user X"
   ]
  },
  {
   "attachments": {},
   "cell_type": "markdown",
   "metadata": {},
   "source": [
    "In the following, we use the default type_name, type_role, instance_context, and instance_starter defined in the Chatbot class"
   ]
  },
  {
   "cell_type": "code",
   "execution_count": 2,
   "metadata": {},
   "outputs": [],
   "source": [
    "bot = Chatbot(\n",
    "    database_file=\"data/chatbot.db\", \n",
    "    type_id=\"053e97a0-6a91-4589-8602-340aa47b6376\",\n",
    "    user_id=\"7515865e-4097-4dd7-9567-d3c7a4c1ed07\",\n",
    "    type_name=Chatbot.default_type_name,\n",
    "    type_role=Chatbot.default_type_role,\n",
    "    instance_context=Chatbot.default_instance_context,\n",
    "    instance_starter=Chatbot.default_instance_starter\n",
    ")"
   ]
  },
  {
   "attachments": {},
   "cell_type": "markdown",
   "metadata": {},
   "source": [
    "Retrieve the complete conversation (held so far) or the bot information (type_role, instance_context, and instance_starter) as retrieved from the database. Both may be used to display that on a frontend."
   ]
  },
  {
   "cell_type": "code",
   "execution_count": 3,
   "metadata": {},
   "outputs": [
    {
     "name": "stdout",
     "output_type": "stream",
     "text": [
      "[{'role': 'system', 'content': 'Du bist ein achtsamer Coach. Du führst Gespräche mit einem Benutzer. Ziel dieser Gespräche ist es, Benutzer beim Erlangen von Erfüllung zu unterstützen.'}, {'role': 'system', 'content': 'Du führst jetzt solch ein Gespräch mit einem Benutzer. Du sprichst mit dem Benutzer in Du-Form. Finde in diesem Gespräch heraus, welche Unterstützung hilfreich sein kann und biete diese Unterstützung an.'}]\n",
      "{'name': 'Coach', 'role': 'Du bist ein achtsamer Coach. Du führst Gespräche mit einem Benutzer. Ziel dieser Gespräche ist es, Benutzer beim Erlangen von Erfüllung zu unterstützen.', 'context': 'Du führst jetzt solch ein Gespräch mit einem Benutzer. Du sprichst mit dem Benutzer in Du-Form. Finde in diesem Gespräch heraus, welche Unterstützung hilfreich sein kann und biete diese Unterstützung an.'}\n"
     ]
    }
   ],
   "source": [
    "bot = Chatbot(\n",
    "    database_file=\"data/chatbot.db\", \n",
    "    type_id=\"053e97a0-6a91-4589-8602-340aa47b6376\",\n",
    "    user_id=\"7515865e-4097-4dd7-9567-d3c7a4c1ed07\"\n",
    ")\n",
    "print(bot.conversation_retrieve(with_system=True))\n",
    "print(bot.info_retrieve())"
   ]
  },
  {
   "attachments": {},
   "cell_type": "markdown",
   "metadata": {},
   "source": [
    "If the chatbot should start the conversation, have the greeting message be created here and stored in the database."
   ]
  },
  {
   "cell_type": "code",
   "execution_count": 4,
   "metadata": {},
   "outputs": [
    {
     "name": "stdout",
     "output_type": "stream",
     "text": [
      "Hallo! Schön, dass du da bist. Wie geht es dir heute?\n"
     ]
    }
   ],
   "source": [
    "print(bot.starter())"
   ]
  },
  {
   "attachments": {},
   "cell_type": "markdown",
   "metadata": {},
   "source": [
    "URL to be handed out to the user\n",
    "\n",
    "##### Generic URL\n",
    "https://[your pythonanywhere user name].pythonanywhere.com/[type id]/[user_id]/chat\n",
    "##### For Example\n",
    "https://monkey23.pythonanywhere.com/053e97a0-6a91-4589-8602-340aa47b6376/7515865e-4097-4dd7-9567-d3c7a4c1ed07/chat"
   ]
  },
  {
   "attachments": {},
   "cell_type": "markdown",
   "metadata": {},
   "source": [
    "#### Create another chatbot \"Learning Assistant\" for user Y\n",
    "In the following, we provide our own type_name, type_role, instance_context, and instance_starter"
   ]
  },
  {
   "cell_type": "code",
   "execution_count": 5,
   "metadata": {},
   "outputs": [],
   "source": [
    "learning_assistant = Chatbot(\n",
    "    database_file=\"data/chatbot.db\", \n",
    "    type_id=\"4086759e-b31b-46b8-ad22-8bddc0c8eaa7\",\n",
    "    user_id=\"a59ac3aa-40f1-49a2-a3e8-a2dbe12d3ad5\",\n",
    "    type_name=\"Learning Assistant\",\n",
    "    type_role='''\n",
    "        Your are a mindful learning assistant. You always reply with short responses.\n",
    "        You help users when they do their homework for school or prepare for exams.\n",
    "    ''',\n",
    "    instance_context='''\n",
    "        You are now having a conversation with Kevin.\n",
    "        Kevin is preparing for a math exam. The topic of examination is the pythagoras theorem.\n",
    "    ''',\n",
    "    instance_starter='''\n",
    "        Create a short message to greet Kevin.\n",
    "    '''\n",
    "    )"
   ]
  },
  {
   "cell_type": "code",
   "execution_count": 6,
   "metadata": {},
   "outputs": [
    {
     "name": "stdout",
     "output_type": "stream",
     "text": [
      "Hi Kevin! How can I help you with your Pythagoras Theorem exam preparation?\n"
     ]
    }
   ],
   "source": [
    "print(learning_assistant.starter())"
   ]
  },
  {
   "attachments": {},
   "cell_type": "markdown",
   "metadata": {},
   "source": [
    "## My own prompts:"
   ]
  },
  {
   "attachments": {},
   "cell_type": "markdown",
   "metadata": {},
   "source": [
    "### travel assistant\n"
   ]
  },
  {
   "cell_type": "code",
   "execution_count": 7,
   "metadata": {},
   "outputs": [],
   "source": [
    "travel_asistant = Chatbot(\n",
    "    database_file=\"data/chatbot.db\", \n",
    "    type_id=\"4086759e-b31b-46b8-ad22-8bddc0c8eea6\",\n",
    "    user_id=\"a59ac3aa-40f1-49a2-a3e8-a2dbe12d3eea9\",\n",
    "    type_name=\"Travel Assistant\",\n",
    "    type_role='''\n",
    "        You are an enthusiastic travel assistant with a deep knowledge of world geography and cultures. \n",
    "        You engage in friendly and personal conversations with users, understanding their travel preferences, interests, and budget. \n",
    "        You help users discover destinations they might love, based on their preferences, and provide them with insightful information about these places, \n",
    "        including local attractions, best travel times, and cultural norms. \n",
    "        You also provide practical advice on travel logistics, such as flight options, accommodations, and local transportation. \n",
    "        Your ultimate goal is to help users plan a trip that they'll remember fondly for a lifetime.\n",
    "    ''',\n",
    "    instance_context='''\n",
    "        You are now having a conversation with a Person. The name of the person will be provided to you by the user. Always use this name to talk to the user.\n",
    "    ''',\n",
    "    instance_starter='''\n",
    "        Create a short message to greet the Person and ask for their name. \n",
    "    '''\n",
    "    )"
   ]
  },
  {
   "cell_type": "code",
   "execution_count": 8,
   "metadata": {},
   "outputs": [
    {
     "name": "stdout",
     "output_type": "stream",
     "text": [
      "Hello there! Thank you for contacting me. May I please know your name?\n"
     ]
    }
   ],
   "source": [
    "print(travel_asistant.starter())"
   ]
  },
  {
   "attachments": {},
   "cell_type": "markdown",
   "metadata": {},
   "source": [
    "### sentiment detection"
   ]
  },
  {
   "cell_type": "code",
   "execution_count": 9,
   "metadata": {},
   "outputs": [],
   "source": [
    "sentiment_detection = Chatbot(\n",
    "    database_file=\"data/chatbot.db\", \n",
    "    type_id=\"4086759e-b31b-46b8-ad22-444\",\n",
    "    user_id=\"a59ac3aa-40f1-49a2-a3e8-555\",\n",
    "    type_name=\"Sentiment Detection Assistant\",\n",
    "    type_role='''\n",
    "        You are an model capable of performing sentiment analysis on given texts. \n",
    "        Your task is to identify the topics mentioned and assess the sentiment associated with them. \n",
    "        The sentiment score should range between -1 (indicating a negative sentiment), 0 (neutral sentiment), and 1 (indicating a positive sentiment). \n",
    "        Your output should be a JSON list of JSON objects where each object includes topic (the identified topic), description (descriptive terms associated with the topic), \n",
    "        and sentiment (the sentiment score). Please perform this analysis for each sentence provided to the model.\n",
    "    ''',\n",
    "    instance_context='''\n",
    "        You are now having a conversation with a person, who will provide sentences for you to analyze using sentiment analysis.\n",
    "    ''',\n",
    "    instance_starter='''\n",
    "        Create a greeting message and ask the user to provide a sentence for sentiment evaluation.\n",
    "    '''\n",
    "    )"
   ]
  },
  {
   "cell_type": "code",
   "execution_count": 12,
   "metadata": {},
   "outputs": [
    {
     "name": "stdout",
     "output_type": "stream",
     "text": [
      "Hello! Welcome to our sentiment analysis tool. Please provide a sentence you'd like to analyze.\n"
     ]
    }
   ],
   "source": [
    "print(sentiment_detection.starter())"
   ]
  },
  {
   "attachments": {},
   "cell_type": "markdown",
   "metadata": {},
   "source": [
    "### health assistant for hearing loss patients"
   ]
  },
  {
   "cell_type": "code",
   "execution_count": null,
   "metadata": {},
   "outputs": [],
   "source": [
    "# hoerverlust_assistent = Chatbot(\n",
    "#     database_file=\"data/chatbot.db\", \n",
    "#     type_id=\"4086759e-b31b-46b8-ad22-8bddc0c8eba7\",\n",
    "#     user_id=\"a59ac3aa-40f1-49a2-a3e8-a2dbe12d3abe8\",\n",
    "#     type_name=\"Hörverlust Unterstützungsassistent\",\n",
    "#     type_role='''\n",
    "#         Du bist ein KI-Modell, das darauf spezialisiert ist, junge Erwachsene mit Hörverlust zu unterstützen. \n",
    "#         Deine Aufgabe ist es, den Benutzern bei der Verbesserung ihrer gesundheitlichen Aufklärung und sozialen Integration zu helfen. \n",
    "#         Dazu informierst du sie über verschiedene Beratungsangebote und schaffst eine offene und unterstützende Atmosphäre, \n",
    "#         die es den Benutzern erleichtert, ihre Herausforderungen zu besprechen.\n",
    "#     ''',\n",
    "#     instance_context='''\n",
    "#         Du wirst nun ein Gespräch mit einer Person führen, die Unterstützung sucht, um geeignete Beratungsdienste zu finden und ihre gesundheitliche Aufklärung und soziale Integration zu verbessern. \n",
    "#         Den Namen der Person erfährst du im Gespräch. Sobald du den Namen kennst sollst du die Person immer mit dem Namen ansprechen.\n",
    "#     ''',\n",
    "#     instance_starter='''\n",
    "#         Begrüße den Benutzer und frage ihn nach seinen spezifischen Bedürfnissen und Fragen im Zusammenhang mit Beratungsdiensten. Frage den Nutzer nach seinem Namen und verwende diesen dann um Ihn anzusprechen.\n",
    "#     '''\n",
    "# )\n"
   ]
  },
  {
   "cell_type": "code",
   "execution_count": null,
   "metadata": {},
   "outputs": [
    {
     "name": "stdout",
     "output_type": "stream",
     "text": [
      "Hallo! Mein Name ist KI-Beraterin und ich bin hier, um Ihnen bei allen Fragen und Bedenken im Zusammenhang mit Beratungsdiensten zu helfen. Wie lautet Ihr Name, und wie kann ich Ihnen helfen?\n"
     ]
    }
   ],
   "source": [
    "# print(hoerverlust_assistent.starter())"
   ]
  },
  {
   "cell_type": "code",
   "execution_count": 13,
   "metadata": {},
   "outputs": [],
   "source": [
    "hoerverlust_assistent = Chatbot(\n",
    "    database_file=\"data/chatbot.db\", \n",
    "    type_id=\"4086759e-b31b-46b8-ad22-8bddc0c8eba7\",\n",
    "    user_id=\"a59ac3aa-40f1-49a2-a3e8-a2dbe12d3ab88\",\n",
    "    type_name=\"Hörverlust Unterstützungsassistent\",\n",
    "    type_role='''\n",
    "        Du bist ein KI-Modell, das darauf spezialisiert ist, junge Erwachsene mit Hörverlust zu unterstützen. \n",
    "        Deine Aufgabe ist es, den Benutzern bei der Verbesserung ihrer gesundheitlichen Aufklärung und sozialen Integration zu helfen. \n",
    "        Dazu informierst du sie über verschiedene Beratungsangebote und schaffst eine offene und unterstützende Atmosphäre, \n",
    "        die es den Benutzern erleichtert, ihre Herausforderungen zu besprechen.\n",
    "    ''',\n",
    "    instance_context='''\n",
    "        Du führst gerade ein Gespräch mit einer Person, die Unterstützung sucht, um geeignete Beratungsdienste zu finden und ihre gesundheitliche Aufklärung und soziale Integration zu verbessern. \n",
    "        Den Namen der Person erfährst du im Gespräch. Sobald du den Namen kennst sollst du die Person immer mit dem Namen ansprechen.\n",
    "    ''',\n",
    "    instance_starter='''\n",
    "        Erstelle eine Begrüssungsnachricht und frage den Nutzer nach seinem Namen.\n",
    "    '''\n",
    ")\n"
   ]
  },
  {
   "cell_type": "code",
   "execution_count": 14,
   "metadata": {},
   "outputs": [
    {
     "name": "stdout",
     "output_type": "stream",
     "text": [
      "Hallo und herzlich willkommen! Ich bin hier, um dir Unterstützung bei der Verbesserung deiner gesundheitlichen Aufklärung und sozialen Integration zu bieten. Darf ich bitte deinen Namen erfahren?\n"
     ]
    }
   ],
   "source": [
    "print(hoerverlust_assistent.starter())"
   ]
  },
  {
   "attachments": {},
   "cell_type": "markdown",
   "metadata": {},
   "source": [
    "### Geschichtslernbot für Geschichtsprüfung der Schwester"
   ]
  },
  {
   "cell_type": "code",
   "execution_count": 3,
   "metadata": {},
   "outputs": [],
   "source": [
    "Geschichte_assistent = Chatbot(\n",
    "    database_file=\"data/chatbot.db\", \n",
    "    type_id=\"4086759e-b31b-46b8-ad22-7777777\",\n",
    "    user_id=\"a59ac3aa-40f1-49a2-a3e8-8888888\",\n",
    "    type_name=\"Geschichtsprüfung Lernassistent\",\n",
    "    type_role='''\n",
    "        Du bist ein KI-Modell, das darauf spezialisiert ist, auf die Geschichtsprüfung für ein Gymnasium zu lernen. \n",
    "        Deine Aufgabe ist es, den Benutzern bei Geschichtsthemen zwischen 1847 bis 1918 zu helfen und allfällige Fragen zu beantworten. \n",
    "        Dazu informierst du sie über die verschiedenen Ereignisse im gefragten Zeitraum.\n",
    "    ''',\n",
    "    instance_context='''\n",
    "        Du führst gerade ein Gespräch mit einer Person, die Unterstützung sucht, um sich optimal auf eine mündlich Geschichtsprüfung vorzubereiten.\n",
    "        Den Namen der Person erfährst du im Gespräch. Sobald du den Namen kennst sollst du die Person immer mit dem Namen ansprechen.\n",
    "    ''',\n",
    "    instance_starter='''\n",
    "        Erstelle eine Begrüssungsnachricht und frage den Nutzer nach seinem Namen.\n",
    "    '''\n",
    ")\n"
   ]
  },
  {
   "cell_type": "code",
   "execution_count": 4,
   "metadata": {},
   "outputs": [
    {
     "name": "stdout",
     "output_type": "stream",
     "text": [
      "Guten Tag und herzlich willkommen! Ich freue mich, dass du dich für meine Unterstützung bei deiner Geschichtsvorbereitung entschieden hast. Um dich besser ansprechen zu können, darf ich nach deinem Namen fragen?\n"
     ]
    }
   ],
   "source": [
    "print(Geschichte_assistent.starter())"
   ]
  }
 ],
 "metadata": {
  "kernelspec": {
   "display_name": "Python 3",
   "language": "python",
   "name": "python3"
  },
  "language_info": {
   "codemirror_mode": {
    "name": "ipython",
    "version": 3
   },
   "file_extension": ".py",
   "mimetype": "text/x-python",
   "name": "python",
   "nbconvert_exporter": "python",
   "pygments_lexer": "ipython3",
   "version": "3.9.13"
  },
  "orig_nbformat": 4
 },
 "nbformat": 4,
 "nbformat_minor": 2
}
